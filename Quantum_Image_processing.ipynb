{
  "nbformat": 4,
  "nbformat_minor": 0,
  "metadata": {
    "colab": {
      "provenance": [],
      "authorship_tag": "ABX9TyNHWQ0eLnV7As0Dg7uGIOYM",
      "include_colab_link": true
    },
    "kernelspec": {
      "name": "python3",
      "display_name": "Python 3"
    },
    "language_info": {
      "name": "python"
    }
  },
  "cells": [
    {
      "cell_type": "markdown",
      "metadata": {
        "id": "view-in-github",
        "colab_type": "text"
      },
      "source": [
        "<a href=\"https://colab.research.google.com/github/owshah/desktop-tutorial/blob/main/Quantum_Image_processing.ipynb\" target=\"_parent\"><img src=\"https://colab.research.google.com/assets/colab-badge.svg\" alt=\"Open In Colab\"/></a>"
      ]
    },
    {
      "cell_type": "code",
      "execution_count": null,
      "metadata": {
        "colab": {
          "base_uri": "https://localhost:8080/"
        },
        "id": "86dPzytPGPbR",
        "outputId": "76f3e4df-cbda-4195-d123-f043df3c664c"
      },
      "outputs": [
        {
          "output_type": "stream",
          "name": "stdout",
          "text": [
            "Requirement already satisfied: qiskit[visualization] in /usr/local/lib/python3.10/dist-packages (0.45.0)\n",
            "Requirement already satisfied: qiskit-terra==0.45.0 in /usr/local/lib/python3.10/dist-packages (from qiskit[visualization]) (0.45.0)\n",
            "Requirement already satisfied: rustworkx>=0.13.0 in /usr/local/lib/python3.10/dist-packages (from qiskit-terra==0.45.0->qiskit[visualization]) (0.13.2)\n",
            "Requirement already satisfied: numpy<2,>=1.17 in /usr/local/lib/python3.10/dist-packages (from qiskit-terra==0.45.0->qiskit[visualization]) (1.23.5)\n",
            "Requirement already satisfied: ply>=3.10 in /usr/local/lib/python3.10/dist-packages (from qiskit-terra==0.45.0->qiskit[visualization]) (3.11)\n",
            "Requirement already satisfied: psutil>=5 in /usr/local/lib/python3.10/dist-packages (from qiskit-terra==0.45.0->qiskit[visualization]) (5.9.5)\n",
            "Requirement already satisfied: scipy>=1.5 in /usr/local/lib/python3.10/dist-packages (from qiskit-terra==0.45.0->qiskit[visualization]) (1.11.3)\n",
            "Requirement already satisfied: sympy>=1.3 in /usr/local/lib/python3.10/dist-packages (from qiskit-terra==0.45.0->qiskit[visualization]) (1.12)\n",
            "Requirement already satisfied: dill>=0.3 in /usr/local/lib/python3.10/dist-packages (from qiskit-terra==0.45.0->qiskit[visualization]) (0.3.7)\n",
            "Requirement already satisfied: python-dateutil>=2.8.0 in /usr/local/lib/python3.10/dist-packages (from qiskit-terra==0.45.0->qiskit[visualization]) (2.8.2)\n",
            "Requirement already satisfied: stevedore>=3.0.0 in /usr/local/lib/python3.10/dist-packages (from qiskit-terra==0.45.0->qiskit[visualization]) (5.1.0)\n",
            "Requirement already satisfied: symengine<0.10,>=0.9 in /usr/local/lib/python3.10/dist-packages (from qiskit-terra==0.45.0->qiskit[visualization]) (0.9.2)\n",
            "Requirement already satisfied: typing-extensions in /usr/local/lib/python3.10/dist-packages (from qiskit-terra==0.45.0->qiskit[visualization]) (4.5.0)\n",
            "Requirement already satisfied: matplotlib>=3.3 in /usr/local/lib/python3.10/dist-packages (from qiskit-terra==0.45.0->qiskit[visualization]) (3.7.1)\n",
            "Requirement already satisfied: ipywidgets>=7.3.0 in /usr/local/lib/python3.10/dist-packages (from qiskit-terra==0.45.0->qiskit[visualization]) (7.7.1)\n",
            "Requirement already satisfied: pydot in /usr/local/lib/python3.10/dist-packages (from qiskit-terra==0.45.0->qiskit[visualization]) (1.4.2)\n",
            "Requirement already satisfied: pillow>=4.2.1 in /usr/local/lib/python3.10/dist-packages (from qiskit-terra==0.45.0->qiskit[visualization]) (9.4.0)\n",
            "Requirement already satisfied: pylatexenc>=1.4 in /usr/local/lib/python3.10/dist-packages (from qiskit-terra==0.45.0->qiskit[visualization]) (2.10)\n",
            "Requirement already satisfied: seaborn>=0.9.0 in /usr/local/lib/python3.10/dist-packages (from qiskit-terra==0.45.0->qiskit[visualization]) (0.12.2)\n",
            "Requirement already satisfied: pygments>=2.4 in /usr/local/lib/python3.10/dist-packages (from qiskit-terra==0.45.0->qiskit[visualization]) (2.16.1)\n",
            "Requirement already satisfied: ipykernel>=4.5.1 in /usr/local/lib/python3.10/dist-packages (from ipywidgets>=7.3.0->qiskit-terra==0.45.0->qiskit[visualization]) (5.5.6)\n",
            "Requirement already satisfied: ipython-genutils~=0.2.0 in /usr/local/lib/python3.10/dist-packages (from ipywidgets>=7.3.0->qiskit-terra==0.45.0->qiskit[visualization]) (0.2.0)\n",
            "Requirement already satisfied: traitlets>=4.3.1 in /usr/local/lib/python3.10/dist-packages (from ipywidgets>=7.3.0->qiskit-terra==0.45.0->qiskit[visualization]) (5.7.1)\n",
            "Requirement already satisfied: widgetsnbextension~=3.6.0 in /usr/local/lib/python3.10/dist-packages (from ipywidgets>=7.3.0->qiskit-terra==0.45.0->qiskit[visualization]) (3.6.6)\n",
            "Requirement already satisfied: ipython>=4.0.0 in /usr/local/lib/python3.10/dist-packages (from ipywidgets>=7.3.0->qiskit-terra==0.45.0->qiskit[visualization]) (7.34.0)\n",
            "Requirement already satisfied: jupyterlab-widgets>=1.0.0 in /usr/local/lib/python3.10/dist-packages (from ipywidgets>=7.3.0->qiskit-terra==0.45.0->qiskit[visualization]) (3.0.9)\n",
            "Requirement already satisfied: contourpy>=1.0.1 in /usr/local/lib/python3.10/dist-packages (from matplotlib>=3.3->qiskit-terra==0.45.0->qiskit[visualization]) (1.2.0)\n",
            "Requirement already satisfied: cycler>=0.10 in /usr/local/lib/python3.10/dist-packages (from matplotlib>=3.3->qiskit-terra==0.45.0->qiskit[visualization]) (0.12.1)\n",
            "Requirement already satisfied: fonttools>=4.22.0 in /usr/local/lib/python3.10/dist-packages (from matplotlib>=3.3->qiskit-terra==0.45.0->qiskit[visualization]) (4.44.0)\n",
            "Requirement already satisfied: kiwisolver>=1.0.1 in /usr/local/lib/python3.10/dist-packages (from matplotlib>=3.3->qiskit-terra==0.45.0->qiskit[visualization]) (1.4.5)\n",
            "Requirement already satisfied: packaging>=20.0 in /usr/local/lib/python3.10/dist-packages (from matplotlib>=3.3->qiskit-terra==0.45.0->qiskit[visualization]) (23.2)\n",
            "Requirement already satisfied: pyparsing>=2.3.1 in /usr/local/lib/python3.10/dist-packages (from matplotlib>=3.3->qiskit-terra==0.45.0->qiskit[visualization]) (3.1.1)\n",
            "Requirement already satisfied: six>=1.5 in /usr/local/lib/python3.10/dist-packages (from python-dateutil>=2.8.0->qiskit-terra==0.45.0->qiskit[visualization]) (1.16.0)\n",
            "Requirement already satisfied: pandas>=0.25 in /usr/local/lib/python3.10/dist-packages (from seaborn>=0.9.0->qiskit-terra==0.45.0->qiskit[visualization]) (1.5.3)\n",
            "Requirement already satisfied: pbr!=2.1.0,>=2.0.0 in /usr/local/lib/python3.10/dist-packages (from stevedore>=3.0.0->qiskit-terra==0.45.0->qiskit[visualization]) (6.0.0)\n",
            "Requirement already satisfied: mpmath>=0.19 in /usr/local/lib/python3.10/dist-packages (from sympy>=1.3->qiskit-terra==0.45.0->qiskit[visualization]) (1.3.0)\n",
            "Requirement already satisfied: jupyter-client in /usr/local/lib/python3.10/dist-packages (from ipykernel>=4.5.1->ipywidgets>=7.3.0->qiskit-terra==0.45.0->qiskit[visualization]) (6.1.12)\n",
            "Requirement already satisfied: tornado>=4.2 in /usr/local/lib/python3.10/dist-packages (from ipykernel>=4.5.1->ipywidgets>=7.3.0->qiskit-terra==0.45.0->qiskit[visualization]) (6.3.2)\n",
            "Requirement already satisfied: setuptools>=18.5 in /usr/local/lib/python3.10/dist-packages (from ipython>=4.0.0->ipywidgets>=7.3.0->qiskit-terra==0.45.0->qiskit[visualization]) (67.7.2)\n",
            "Requirement already satisfied: jedi>=0.16 in /usr/local/lib/python3.10/dist-packages (from ipython>=4.0.0->ipywidgets>=7.3.0->qiskit-terra==0.45.0->qiskit[visualization]) (0.19.1)\n",
            "Requirement already satisfied: decorator in /usr/local/lib/python3.10/dist-packages (from ipython>=4.0.0->ipywidgets>=7.3.0->qiskit-terra==0.45.0->qiskit[visualization]) (4.4.2)\n",
            "Requirement already satisfied: pickleshare in /usr/local/lib/python3.10/dist-packages (from ipython>=4.0.0->ipywidgets>=7.3.0->qiskit-terra==0.45.0->qiskit[visualization]) (0.7.5)\n",
            "Requirement already satisfied: prompt-toolkit!=3.0.0,!=3.0.1,<3.1.0,>=2.0.0 in /usr/local/lib/python3.10/dist-packages (from ipython>=4.0.0->ipywidgets>=7.3.0->qiskit-terra==0.45.0->qiskit[visualization]) (3.0.39)\n",
            "Requirement already satisfied: backcall in /usr/local/lib/python3.10/dist-packages (from ipython>=4.0.0->ipywidgets>=7.3.0->qiskit-terra==0.45.0->qiskit[visualization]) (0.2.0)\n",
            "Requirement already satisfied: matplotlib-inline in /usr/local/lib/python3.10/dist-packages (from ipython>=4.0.0->ipywidgets>=7.3.0->qiskit-terra==0.45.0->qiskit[visualization]) (0.1.6)\n",
            "Requirement already satisfied: pexpect>4.3 in /usr/local/lib/python3.10/dist-packages (from ipython>=4.0.0->ipywidgets>=7.3.0->qiskit-terra==0.45.0->qiskit[visualization]) (4.8.0)\n",
            "Requirement already satisfied: pytz>=2020.1 in /usr/local/lib/python3.10/dist-packages (from pandas>=0.25->seaborn>=0.9.0->qiskit-terra==0.45.0->qiskit[visualization]) (2023.3.post1)\n",
            "Requirement already satisfied: notebook>=4.4.1 in /usr/local/lib/python3.10/dist-packages (from widgetsnbextension~=3.6.0->ipywidgets>=7.3.0->qiskit-terra==0.45.0->qiskit[visualization]) (6.5.5)\n",
            "Requirement already satisfied: parso<0.9.0,>=0.8.3 in /usr/local/lib/python3.10/dist-packages (from jedi>=0.16->ipython>=4.0.0->ipywidgets>=7.3.0->qiskit-terra==0.45.0->qiskit[visualization]) (0.8.3)\n",
            "Requirement already satisfied: jinja2 in /usr/local/lib/python3.10/dist-packages (from notebook>=4.4.1->widgetsnbextension~=3.6.0->ipywidgets>=7.3.0->qiskit-terra==0.45.0->qiskit[visualization]) (3.1.2)\n",
            "Requirement already satisfied: pyzmq<25,>=17 in /usr/local/lib/python3.10/dist-packages (from notebook>=4.4.1->widgetsnbextension~=3.6.0->ipywidgets>=7.3.0->qiskit-terra==0.45.0->qiskit[visualization]) (23.2.1)\n",
            "Requirement already satisfied: argon2-cffi in /usr/local/lib/python3.10/dist-packages (from notebook>=4.4.1->widgetsnbextension~=3.6.0->ipywidgets>=7.3.0->qiskit-terra==0.45.0->qiskit[visualization]) (23.1.0)\n",
            "Requirement already satisfied: jupyter-core>=4.6.1 in /usr/local/lib/python3.10/dist-packages (from notebook>=4.4.1->widgetsnbextension~=3.6.0->ipywidgets>=7.3.0->qiskit-terra==0.45.0->qiskit[visualization]) (5.5.0)\n",
            "Requirement already satisfied: nbformat in /usr/local/lib/python3.10/dist-packages (from notebook>=4.4.1->widgetsnbextension~=3.6.0->ipywidgets>=7.3.0->qiskit-terra==0.45.0->qiskit[visualization]) (5.9.2)\n",
            "Requirement already satisfied: nbconvert>=5 in /usr/local/lib/python3.10/dist-packages (from notebook>=4.4.1->widgetsnbextension~=3.6.0->ipywidgets>=7.3.0->qiskit-terra==0.45.0->qiskit[visualization]) (6.5.4)\n",
            "Requirement already satisfied: nest-asyncio>=1.5 in /usr/local/lib/python3.10/dist-packages (from notebook>=4.4.1->widgetsnbextension~=3.6.0->ipywidgets>=7.3.0->qiskit-terra==0.45.0->qiskit[visualization]) (1.5.8)\n",
            "Requirement already satisfied: Send2Trash>=1.8.0 in /usr/local/lib/python3.10/dist-packages (from notebook>=4.4.1->widgetsnbextension~=3.6.0->ipywidgets>=7.3.0->qiskit-terra==0.45.0->qiskit[visualization]) (1.8.2)\n",
            "Requirement already satisfied: terminado>=0.8.3 in /usr/local/lib/python3.10/dist-packages (from notebook>=4.4.1->widgetsnbextension~=3.6.0->ipywidgets>=7.3.0->qiskit-terra==0.45.0->qiskit[visualization]) (0.17.1)\n",
            "Requirement already satisfied: prometheus-client in /usr/local/lib/python3.10/dist-packages (from notebook>=4.4.1->widgetsnbextension~=3.6.0->ipywidgets>=7.3.0->qiskit-terra==0.45.0->qiskit[visualization]) (0.18.0)\n",
            "Requirement already satisfied: nbclassic>=0.4.7 in /usr/local/lib/python3.10/dist-packages (from notebook>=4.4.1->widgetsnbextension~=3.6.0->ipywidgets>=7.3.0->qiskit-terra==0.45.0->qiskit[visualization]) (1.0.0)\n",
            "Requirement already satisfied: ptyprocess>=0.5 in /usr/local/lib/python3.10/dist-packages (from pexpect>4.3->ipython>=4.0.0->ipywidgets>=7.3.0->qiskit-terra==0.45.0->qiskit[visualization]) (0.7.0)\n",
            "Requirement already satisfied: wcwidth in /usr/local/lib/python3.10/dist-packages (from prompt-toolkit!=3.0.0,!=3.0.1,<3.1.0,>=2.0.0->ipython>=4.0.0->ipywidgets>=7.3.0->qiskit-terra==0.45.0->qiskit[visualization]) (0.2.9)\n",
            "Requirement already satisfied: platformdirs>=2.5 in /usr/local/lib/python3.10/dist-packages (from jupyter-core>=4.6.1->notebook>=4.4.1->widgetsnbextension~=3.6.0->ipywidgets>=7.3.0->qiskit-terra==0.45.0->qiskit[visualization]) (3.11.0)\n",
            "Requirement already satisfied: jupyter-server>=1.8 in /usr/local/lib/python3.10/dist-packages (from nbclassic>=0.4.7->notebook>=4.4.1->widgetsnbextension~=3.6.0->ipywidgets>=7.3.0->qiskit-terra==0.45.0->qiskit[visualization]) (1.24.0)\n",
            "Requirement already satisfied: notebook-shim>=0.2.3 in /usr/local/lib/python3.10/dist-packages (from nbclassic>=0.4.7->notebook>=4.4.1->widgetsnbextension~=3.6.0->ipywidgets>=7.3.0->qiskit-terra==0.45.0->qiskit[visualization]) (0.2.3)\n",
            "Requirement already satisfied: lxml in /usr/local/lib/python3.10/dist-packages (from nbconvert>=5->notebook>=4.4.1->widgetsnbextension~=3.6.0->ipywidgets>=7.3.0->qiskit-terra==0.45.0->qiskit[visualization]) (4.9.3)\n",
            "Requirement already satisfied: beautifulsoup4 in /usr/local/lib/python3.10/dist-packages (from nbconvert>=5->notebook>=4.4.1->widgetsnbextension~=3.6.0->ipywidgets>=7.3.0->qiskit-terra==0.45.0->qiskit[visualization]) (4.11.2)\n",
            "Requirement already satisfied: bleach in /usr/local/lib/python3.10/dist-packages (from nbconvert>=5->notebook>=4.4.1->widgetsnbextension~=3.6.0->ipywidgets>=7.3.0->qiskit-terra==0.45.0->qiskit[visualization]) (6.1.0)\n",
            "Requirement already satisfied: defusedxml in /usr/local/lib/python3.10/dist-packages (from nbconvert>=5->notebook>=4.4.1->widgetsnbextension~=3.6.0->ipywidgets>=7.3.0->qiskit-terra==0.45.0->qiskit[visualization]) (0.7.1)\n",
            "Requirement already satisfied: entrypoints>=0.2.2 in /usr/local/lib/python3.10/dist-packages (from nbconvert>=5->notebook>=4.4.1->widgetsnbextension~=3.6.0->ipywidgets>=7.3.0->qiskit-terra==0.45.0->qiskit[visualization]) (0.4)\n",
            "Requirement already satisfied: jupyterlab-pygments in /usr/local/lib/python3.10/dist-packages (from nbconvert>=5->notebook>=4.4.1->widgetsnbextension~=3.6.0->ipywidgets>=7.3.0->qiskit-terra==0.45.0->qiskit[visualization]) (0.2.2)\n",
            "Requirement already satisfied: MarkupSafe>=2.0 in /usr/local/lib/python3.10/dist-packages (from nbconvert>=5->notebook>=4.4.1->widgetsnbextension~=3.6.0->ipywidgets>=7.3.0->qiskit-terra==0.45.0->qiskit[visualization]) (2.1.3)\n",
            "Requirement already satisfied: mistune<2,>=0.8.1 in /usr/local/lib/python3.10/dist-packages (from nbconvert>=5->notebook>=4.4.1->widgetsnbextension~=3.6.0->ipywidgets>=7.3.0->qiskit-terra==0.45.0->qiskit[visualization]) (0.8.4)\n",
            "Requirement already satisfied: nbclient>=0.5.0 in /usr/local/lib/python3.10/dist-packages (from nbconvert>=5->notebook>=4.4.1->widgetsnbextension~=3.6.0->ipywidgets>=7.3.0->qiskit-terra==0.45.0->qiskit[visualization]) (0.9.0)\n",
            "Requirement already satisfied: pandocfilters>=1.4.1 in /usr/local/lib/python3.10/dist-packages (from nbconvert>=5->notebook>=4.4.1->widgetsnbextension~=3.6.0->ipywidgets>=7.3.0->qiskit-terra==0.45.0->qiskit[visualization]) (1.5.0)\n",
            "Requirement already satisfied: tinycss2 in /usr/local/lib/python3.10/dist-packages (from nbconvert>=5->notebook>=4.4.1->widgetsnbextension~=3.6.0->ipywidgets>=7.3.0->qiskit-terra==0.45.0->qiskit[visualization]) (1.2.1)\n",
            "Requirement already satisfied: fastjsonschema in /usr/local/lib/python3.10/dist-packages (from nbformat->notebook>=4.4.1->widgetsnbextension~=3.6.0->ipywidgets>=7.3.0->qiskit-terra==0.45.0->qiskit[visualization]) (2.18.1)\n",
            "Requirement already satisfied: jsonschema>=2.6 in /usr/local/lib/python3.10/dist-packages (from nbformat->notebook>=4.4.1->widgetsnbextension~=3.6.0->ipywidgets>=7.3.0->qiskit-terra==0.45.0->qiskit[visualization]) (4.19.2)\n",
            "Requirement already satisfied: argon2-cffi-bindings in /usr/local/lib/python3.10/dist-packages (from argon2-cffi->notebook>=4.4.1->widgetsnbextension~=3.6.0->ipywidgets>=7.3.0->qiskit-terra==0.45.0->qiskit[visualization]) (21.2.0)\n",
            "Requirement already satisfied: attrs>=22.2.0 in /usr/local/lib/python3.10/dist-packages (from jsonschema>=2.6->nbformat->notebook>=4.4.1->widgetsnbextension~=3.6.0->ipywidgets>=7.3.0->qiskit-terra==0.45.0->qiskit[visualization]) (23.1.0)\n",
            "Requirement already satisfied: jsonschema-specifications>=2023.03.6 in /usr/local/lib/python3.10/dist-packages (from jsonschema>=2.6->nbformat->notebook>=4.4.1->widgetsnbextension~=3.6.0->ipywidgets>=7.3.0->qiskit-terra==0.45.0->qiskit[visualization]) (2023.7.1)\n",
            "Requirement already satisfied: referencing>=0.28.4 in /usr/local/lib/python3.10/dist-packages (from jsonschema>=2.6->nbformat->notebook>=4.4.1->widgetsnbextension~=3.6.0->ipywidgets>=7.3.0->qiskit-terra==0.45.0->qiskit[visualization]) (0.30.2)\n",
            "Requirement already satisfied: rpds-py>=0.7.1 in /usr/local/lib/python3.10/dist-packages (from jsonschema>=2.6->nbformat->notebook>=4.4.1->widgetsnbextension~=3.6.0->ipywidgets>=7.3.0->qiskit-terra==0.45.0->qiskit[visualization]) (0.12.0)\n",
            "Requirement already satisfied: anyio<4,>=3.1.0 in /usr/local/lib/python3.10/dist-packages (from jupyter-server>=1.8->nbclassic>=0.4.7->notebook>=4.4.1->widgetsnbextension~=3.6.0->ipywidgets>=7.3.0->qiskit-terra==0.45.0->qiskit[visualization]) (3.7.1)\n",
            "Requirement already satisfied: websocket-client in /usr/local/lib/python3.10/dist-packages (from jupyter-server>=1.8->nbclassic>=0.4.7->notebook>=4.4.1->widgetsnbextension~=3.6.0->ipywidgets>=7.3.0->qiskit-terra==0.45.0->qiskit[visualization]) (1.6.4)\n",
            "Requirement already satisfied: cffi>=1.0.1 in /usr/local/lib/python3.10/dist-packages (from argon2-cffi-bindings->argon2-cffi->notebook>=4.4.1->widgetsnbextension~=3.6.0->ipywidgets>=7.3.0->qiskit-terra==0.45.0->qiskit[visualization]) (1.16.0)\n",
            "Requirement already satisfied: soupsieve>1.2 in /usr/local/lib/python3.10/dist-packages (from beautifulsoup4->nbconvert>=5->notebook>=4.4.1->widgetsnbextension~=3.6.0->ipywidgets>=7.3.0->qiskit-terra==0.45.0->qiskit[visualization]) (2.5)\n",
            "Requirement already satisfied: webencodings in /usr/local/lib/python3.10/dist-packages (from bleach->nbconvert>=5->notebook>=4.4.1->widgetsnbextension~=3.6.0->ipywidgets>=7.3.0->qiskit-terra==0.45.0->qiskit[visualization]) (0.5.1)\n",
            "Requirement already satisfied: idna>=2.8 in /usr/local/lib/python3.10/dist-packages (from anyio<4,>=3.1.0->jupyter-server>=1.8->nbclassic>=0.4.7->notebook>=4.4.1->widgetsnbextension~=3.6.0->ipywidgets>=7.3.0->qiskit-terra==0.45.0->qiskit[visualization]) (3.4)\n",
            "Requirement already satisfied: sniffio>=1.1 in /usr/local/lib/python3.10/dist-packages (from anyio<4,>=3.1.0->jupyter-server>=1.8->nbclassic>=0.4.7->notebook>=4.4.1->widgetsnbextension~=3.6.0->ipywidgets>=7.3.0->qiskit-terra==0.45.0->qiskit[visualization]) (1.3.0)\n",
            "Requirement already satisfied: exceptiongroup in /usr/local/lib/python3.10/dist-packages (from anyio<4,>=3.1.0->jupyter-server>=1.8->nbclassic>=0.4.7->notebook>=4.4.1->widgetsnbextension~=3.6.0->ipywidgets>=7.3.0->qiskit-terra==0.45.0->qiskit[visualization]) (1.1.3)\n",
            "Requirement already satisfied: pycparser in /usr/local/lib/python3.10/dist-packages (from cffi>=1.0.1->argon2-cffi-bindings->argon2-cffi->notebook>=4.4.1->widgetsnbextension~=3.6.0->ipywidgets>=7.3.0->qiskit-terra==0.45.0->qiskit[visualization]) (2.21)\n"
          ]
        }
      ],
      "source": [
        "pip install qiskit[visualization]\n"
      ]
    },
    {
      "cell_type": "code",
      "source": [
        "pip install utils\n"
      ],
      "metadata": {
        "colab": {
          "base_uri": "https://localhost:8080/"
        },
        "id": "egZItmA1G8j5",
        "outputId": "ecb4ab00-c57d-427a-d6b2-75ddf4ce9e61"
      },
      "execution_count": null,
      "outputs": [
        {
          "output_type": "stream",
          "name": "stdout",
          "text": [
            "Requirement already satisfied: utils in /usr/local/lib/python3.10/dist-packages (1.0.1)\n"
          ]
        }
      ]
    },
    {
      "cell_type": "code",
      "source": [
        "pip install qiskit-aer\n"
      ],
      "metadata": {
        "colab": {
          "base_uri": "https://localhost:8080/"
        },
        "id": "k1yP9f7AHF19",
        "outputId": "bc10b7d7-de60-4889-fb43-1a09e776a380"
      },
      "execution_count": null,
      "outputs": [
        {
          "output_type": "stream",
          "name": "stdout",
          "text": [
            "Requirement already satisfied: qiskit-aer in /usr/local/lib/python3.10/dist-packages (0.13.0)\n",
            "Requirement already satisfied: qiskit>=0.44.0 in /usr/local/lib/python3.10/dist-packages (from qiskit-aer) (0.45.0)\n",
            "Requirement already satisfied: numpy>=1.16.3 in /usr/local/lib/python3.10/dist-packages (from qiskit-aer) (1.23.5)\n",
            "Requirement already satisfied: scipy>=1.0 in /usr/local/lib/python3.10/dist-packages (from qiskit-aer) (1.11.3)\n",
            "Requirement already satisfied: qiskit-terra==0.45.0 in /usr/local/lib/python3.10/dist-packages (from qiskit>=0.44.0->qiskit-aer) (0.45.0)\n",
            "Requirement already satisfied: rustworkx>=0.13.0 in /usr/local/lib/python3.10/dist-packages (from qiskit-terra==0.45.0->qiskit>=0.44.0->qiskit-aer) (0.13.2)\n",
            "Requirement already satisfied: ply>=3.10 in /usr/local/lib/python3.10/dist-packages (from qiskit-terra==0.45.0->qiskit>=0.44.0->qiskit-aer) (3.11)\n",
            "Requirement already satisfied: psutil>=5 in /usr/local/lib/python3.10/dist-packages (from qiskit-terra==0.45.0->qiskit>=0.44.0->qiskit-aer) (5.9.5)\n",
            "Requirement already satisfied: sympy>=1.3 in /usr/local/lib/python3.10/dist-packages (from qiskit-terra==0.45.0->qiskit>=0.44.0->qiskit-aer) (1.12)\n",
            "Requirement already satisfied: dill>=0.3 in /usr/local/lib/python3.10/dist-packages (from qiskit-terra==0.45.0->qiskit>=0.44.0->qiskit-aer) (0.3.7)\n",
            "Requirement already satisfied: python-dateutil>=2.8.0 in /usr/local/lib/python3.10/dist-packages (from qiskit-terra==0.45.0->qiskit>=0.44.0->qiskit-aer) (2.8.2)\n",
            "Requirement already satisfied: stevedore>=3.0.0 in /usr/local/lib/python3.10/dist-packages (from qiskit-terra==0.45.0->qiskit>=0.44.0->qiskit-aer) (5.1.0)\n",
            "Requirement already satisfied: symengine<0.10,>=0.9 in /usr/local/lib/python3.10/dist-packages (from qiskit-terra==0.45.0->qiskit>=0.44.0->qiskit-aer) (0.9.2)\n",
            "Requirement already satisfied: typing-extensions in /usr/local/lib/python3.10/dist-packages (from qiskit-terra==0.45.0->qiskit>=0.44.0->qiskit-aer) (4.5.0)\n",
            "Requirement already satisfied: six>=1.5 in /usr/local/lib/python3.10/dist-packages (from python-dateutil>=2.8.0->qiskit-terra==0.45.0->qiskit>=0.44.0->qiskit-aer) (1.16.0)\n",
            "Requirement already satisfied: pbr!=2.1.0,>=2.0.0 in /usr/local/lib/python3.10/dist-packages (from stevedore>=3.0.0->qiskit-terra==0.45.0->qiskit>=0.44.0->qiskit-aer) (6.0.0)\n",
            "Requirement already satisfied: mpmath>=0.19 in /usr/local/lib/python3.10/dist-packages (from sympy>=1.3->qiskit-terra==0.45.0->qiskit>=0.44.0->qiskit-aer) (1.3.0)\n"
          ]
        }
      ]
    },
    {
      "cell_type": "code",
      "source": [
        "pip install python-resize-image\n"
      ],
      "metadata": {
        "colab": {
          "base_uri": "https://localhost:8080/"
        },
        "id": "2rqhHmYGHN0X",
        "outputId": "14c82abf-9b39-4c11-deb0-7842cbc98279"
      },
      "execution_count": null,
      "outputs": [
        {
          "output_type": "stream",
          "name": "stdout",
          "text": [
            "Requirement already satisfied: python-resize-image in /usr/local/lib/python3.10/dist-packages (1.1.20)\n",
            "Requirement already satisfied: Pillow>=5.1.0 in /usr/local/lib/python3.10/dist-packages (from python-resize-image) (9.4.0)\n",
            "Requirement already satisfied: requests>=2.19.1 in /usr/local/lib/python3.10/dist-packages (from python-resize-image) (2.31.0)\n",
            "Requirement already satisfied: charset-normalizer<4,>=2 in /usr/local/lib/python3.10/dist-packages (from requests>=2.19.1->python-resize-image) (3.3.2)\n",
            "Requirement already satisfied: idna<4,>=2.5 in /usr/local/lib/python3.10/dist-packages (from requests>=2.19.1->python-resize-image) (3.4)\n",
            "Requirement already satisfied: urllib3<3,>=1.21.1 in /usr/local/lib/python3.10/dist-packages (from requests>=2.19.1->python-resize-image) (2.0.7)\n",
            "Requirement already satisfied: certifi>=2017.4.17 in /usr/local/lib/python3.10/dist-packages (from requests>=2.19.1->python-resize-image) (2023.7.22)\n"
          ]
        }
      ]
    },
    {
      "cell_type": "markdown",
      "source": [
        "#FRQI"
      ],
      "metadata": {
        "id": "g3fVyKCuIUJX"
      }
    },
    {
      "cell_type": "code",
      "source": [
        "from qiskit import IBMQ, QuantumCircuit, ClassicalRegister, QuantumRegister\n",
        "from qiskit import execute, QuantumRegister\n",
        "from qiskit.qasm import pi\n",
        "from qiskit.tools.visualization import plot_histogram, circuit_drawer\n",
        "from qiskit import execute, Aer, BasicAer\n",
        "import numpy as np\n",
        "import random\n",
        "import keras\n",
        "from keras.models import Sequential\n",
        "from keras.layers import Dense, Activation\n",
        "from keras.datasets import mnist\n",
        "import matplotlib.pyplot as plt\n",
        "from sklearn.metrics import mean_squared_error, mean_absolute_error, mutual_info_score, r2_score\n",
        "\n",
        "def margolus(circ, t, c0, c1):\n",
        "        circ.ry(np.pi/4,t)\n",
        "        circ.cx(c0, t)\n",
        "        circ.ry(np.pi/4,t)\n",
        "        circ.cx(c1, t)\n",
        "        circ.ry(-np.pi/4,t)\n",
        "        circ.cx(c0, t)\n",
        "        circ.ry(-np.pi/4,t)\n",
        "\n",
        "def rccx(circ, t, c0, c1):\n",
        "        circ.h(t)\n",
        "        circ.t(t)\n",
        "        circ.cx(c0, t)\n",
        "        circ.tdg(t)\n",
        "        circ.cx(c1, t)\n",
        "        circ.t(t)\n",
        "        circ.cx(c0, t)\n",
        "        circ.tdg(t)\n",
        "        circ.h(t)\n",
        "\n",
        "def rcccx(circ, t, c0, c1, c2):\n",
        "        circ.h(t)\n",
        "        circ.t(t)\n",
        "        circ.cx(c0, t)\n",
        "        circ.tdg(t)\n",
        "        circ.h(t)\n",
        "        circ.cx(c1, t)\n",
        "        circ.t(t)\n",
        "        circ.cx(c2, t)\n",
        "        circ.tdg(t)\n",
        "        circ.cx(c1, t)\n",
        "        circ.t(t)\n",
        "        circ.cx(c2, t)\n",
        "        circ.tdg(t)\n",
        "        circ.h(t)\n",
        "        circ.t(t)\n",
        "        circ.cx(c0, t)\n",
        "        circ.tdg(t)\n",
        "        circ.h(t)\n",
        "\n",
        "\n",
        "def ccry(circ, angle, t, c0, c1):\n",
        "        circ.cu3(angle/2, 0, 0, c1, t)\n",
        "        circ.cx(c1, c0)\n",
        "        circ.cu3(-angle/2, 0, 0, c0, t)\n",
        "        circ.cx(c1, c0)\n",
        "        circ.cu3(angle/2, 0, 0, c0, t)\n",
        "\n",
        "def mary(circ, angle, t, c0, c1):\n",
        "        circ.ry(angle/4,t)\n",
        "        circ.cx(c0, t)\n",
        "        circ.ry(-angle/4,t)\n",
        "        circ.cx(c1, t)\n",
        "        circ.ry(angle/4,t)\n",
        "        circ.cx(c0, t)\n",
        "        circ.ry(-angle/4,t)\n",
        "        circ.cx(c1, t)\n",
        "\n",
        "def cccry(circ, angle, t, a, c0, c1, c2):\n",
        "        margolus(circ, a, c1, c2)\n",
        "        mary(circ, angle, t, a, c0)\n",
        "        margolus(circ, a, c1, c2)\n",
        "\n",
        "def mary_4(circ, angle, t, c0, c1, c2):\n",
        "        circ.h(t)\n",
        "        circ.t(t)\n",
        "        circ.cx(c0,t)\n",
        "        circ.tdg(t)\n",
        "        circ.h(t)\n",
        "        circ.cx(c1,t)\n",
        "        circ.rz(angle/4,t)\n",
        "        circ.cx(c2,t)\n",
        "        circ.rz(-angle/4,t)\n",
        "        circ.cx(c1,t)\n",
        "        circ.rz(angle/4,t)\n",
        "        circ.cx(c2,t)\n",
        "        circ.rz(-angle/4,t)\n",
        "        circ.h(t)\n",
        "        circ.t(t)\n",
        "        circ.cx(c0,t)\n",
        "        circ.tdg(t)\n",
        "        circ.h(t)\n",
        "\n",
        "def mary_8(circ, angle, t, c0, c1, c2, c3, c4, c5, c6):\n",
        "        circ.h(t)\n",
        "        circ.t(t)\n",
        "        rccx(circ, t, c0, c1)\n",
        "        circ.tdg(t)\n",
        "        circ.h(t)\n",
        "        rccx(circ, t, c2, c3)\n",
        "        circ.rz(angle/4,t)\n",
        "        rcccx(circ, t, c4, c5, c6)\n",
        "        circ.rz(-angle/4,t)\n",
        "        rccx(circ, t, c2, c3)\n",
        "        circ.rz(angle/4,t)\n",
        "        rcccx(circ, t, c4, c5, c6)\n",
        "        circ.rz(-angle/4,t)\n",
        "        circ.h(t)\n",
        "        circ.t(t)\n",
        "        rccx(circ, t, c0, c1)\n",
        "        circ.tdg(t)\n",
        "        circ.h(t)\n",
        "\n",
        "def c10ry(circ, angle, bin, target, anc, controls):\n",
        "\n",
        "        clist = []\n",
        "\n",
        "        for i in bin:\n",
        "                clist.append(int(i))\n",
        "\n",
        "        for i in range(len(clist)):\n",
        "                if clist[i] == 0:\n",
        "                        circ.x(controls[-i-1])\n",
        "\n",
        "        margolus(circ, anc, controls[0], controls[1])\n",
        "        circ.x(controls[0])\n",
        "        circ.x(controls[1])\n",
        "        margolus(circ, controls[1], controls[2], controls[3])\n",
        "        circ.x(controls[2])\n",
        "        circ.x(controls[3])\n",
        "        margolus(circ, controls[3], controls[4], controls[5])\n",
        "        circ.x(controls[4])\n",
        "        circ.x(controls[5])\n",
        "\n",
        "        margolus(circ, controls[5], controls[8], controls[9])\n",
        "        margolus(circ, controls[4], controls[6], controls[7])\n",
        "        margolus(circ, controls[2], controls[4], controls[5])\n",
        "        margolus(circ, controls[0], controls[2], controls[3])\n",
        "\n",
        "        mary_4(circ, angle, target, anc, controls[0], controls[1])\n",
        "\n",
        "        margolus(circ, controls[0], controls[2], controls[3])\n",
        "        margolus(circ, controls[2], controls[4], controls[5])\n",
        "        margolus(circ, controls[4], controls[6], controls[7])\n",
        "        margolus(circ, controls[5], controls[8], controls[9])\n",
        "\n",
        "        circ.x(controls[5])\n",
        "        circ.x(controls[4])\n",
        "        margolus(circ, controls[3], controls[4], controls[5])\n",
        "        circ.x(controls[3])\n",
        "        circ.x(controls[2])\n",
        "        margolus(circ, controls[1], controls[2], controls[3])\n",
        "        circ.x(controls[1])\n",
        "        circ.x(controls[0])\n",
        "        margolus(circ, anc, controls[0], controls[1])\n",
        "\n",
        "        for i in range(len(clist)):\n",
        "                if clist[i] == 0:\n",
        "                        circ.x(controls[-i-1])\n",
        "\n",
        "def c10mary(circ, angle, bin, target, anc, controls):\n",
        "        clist = []\n",
        "\n",
        "        for i in bin:\n",
        "                clist.append(int(i))\n",
        "\n",
        "        for i in range(len(clist)):\n",
        "                if clist[i] == 0:\n",
        "                        circ.x(controls[-i-1])\n",
        "\n",
        "        rccx(circ, anc, controls[4], controls[5])\n",
        "        circ.x(controls[4])\n",
        "        circ.x(controls[5])\n",
        "        rccx(circ, controls[4], controls[6], controls[7])\n",
        "        rccx(circ, controls[5], controls[8], controls[9])\n",
        "\n",
        "\n",
        "        mary_8(circ, angle, target, anc, controls[0], controls[1], controls[2], controls[3], controls[4], controls[5])\n",
        "\n",
        "        rccx(circ, controls[5], controls[8], controls[9])\n",
        "        rccx(circ, controls[4], controls[6], controls[7])\n",
        "        circ.x(controls[5])\n",
        "        circ.x(controls[4])\n",
        "        rccx(circ, anc, controls[4], controls[5])\n",
        "\n",
        "        for i in range(len(clist)):\n",
        "                if clist[i] == 0:\n",
        "                        circ.x(controls[-i-1])\n",
        "\n",
        "\n",
        "if __name__ == '__main__':\n",
        "        (x_train, y_train), (x_test, y_test) = mnist.load_data()\n",
        "        img_num = 0\n",
        "\n",
        "        #show original image\n",
        "        plt.imshow(x_train[img_num], cmap='gray')\n",
        "        #plt.savefig('mnistimg'+str(img_num)+'.png')\n",
        "        plt.show()\n",
        "\n",
        "        # 2-dimentional data convert to 1-dimentional array\n",
        "        x_train = x_train.reshape(60000, 784)\n",
        "        # change type\n",
        "        x_train = x_train.astype('float64')\n",
        "        # Normalization(0~pi/2)\n",
        "        x_train /= 255.0\n",
        "        x_train = np.arcsin(x_train)\n",
        "\n",
        "        backends = Aer.backends()\n",
        "        #print(\"Aer backends:\",backends)\n",
        "\n",
        "        qubit = 12\n",
        "        qc = QuantumCircuit(qubit,qubit)\n",
        "\n",
        "\n",
        "        # apply hadamard gates\n",
        "        qc.h(range(2,qubit))\n",
        "\n",
        "        # apply c10Ry gates (representing color data)\n",
        "        for i in range(len(x_train[img_num])):\n",
        "                if x_train[img_num][i] != 0:\n",
        "                        c10mary(qc, 2 * x_train[img_num][i], format(i, '010b'), 0, 1, [i for i in range(2,12)])\n",
        "\n",
        "\n",
        "        qc.measure(range(qubit),range(qubit))\n",
        "\n",
        "        backend_sim = Aer.get_backend('qasm_simulator')\n",
        "        #print(qc.depth())\n",
        "        numOfShots = 1024000\n",
        "        result = execute(qc, backend_sim, shots=numOfShots).result()\n",
        "        #circuit_drawer(qc).show()\n",
        "        #plot_histogram(result.get_counts(qc))\n",
        "\n",
        "        print(result.get_counts(qc))\n",
        "\n",
        "        # generated image\n",
        "        genimg = np.array([])\n",
        "\n",
        "        #### decode\n",
        "        for i in range(len(x_train[img_num])):\n",
        "                try:\n",
        "                        genimg = np.append(genimg,[np.sqrt(result.get_counts(qc)[format(i, '010b')+'01']/numOfShots)])\n",
        "                except KeyError:\n",
        "                        genimg = np.append(genimg,[0.0])\n",
        "\n",
        "        # inverse nomalization\n",
        "        genimg *= 32.0 * 255.0\n",
        "        x_train = np.sin(x_train)\n",
        "        x_train *= 255.0\n",
        "\n",
        "        # convert type\n",
        "        genimg = genimg.astype('int')\n",
        "\n",
        "        # back to 2-dimentional data\n",
        "        genimg = genimg.reshape((28,28))\n",
        "\n",
        "        plt.imshow(genimg, cmap='gray', vmin=0, vmax=255)\n",
        "        plt.savefig('gen_'+str(img_num)+'.png')\n",
        "        plt.show()"
      ],
      "metadata": {
        "colab": {
          "base_uri": "https://localhost:8080/",
          "height": 880
        },
        "id": "ubRx3BfyHWcm",
        "outputId": "42aa4bd1-3156-4aa8-e18e-bcc4ee27bb9d"
      },
      "execution_count": null,
      "outputs": [
        {
          "output_type": "display_data",
          "data": {
            "text/plain": [
              "<Figure size 640x480 with 1 Axes>"
            ],
            "image/png": "[encoded data removed]"
          },
          "metadata": {}
        },
        {
          "output_type": "stream",
          "name": "stdout",
          "text": [
            "{'001001100101': 3, '011100111101': 5, '100101011100': 13, '011101001000': 16, '001110110000': 12, '100101101000': 10, '010010000101': 3, '010101101101': 2, '010000011100': 14, '001110101000': 17, '010100000000': 11, '011001100000': 18, '010010010000': 10, '101010101101': 2, '100110111001': 7, '101000101100': 17, '101010011100': 15, '100011101001': 8, '100000101000': 14, '001011000001': 8, '010000110001': 33, '001110101100': 21, '001101010100': 36, '100111001100': 13, '010111100001': 12, '001100111000': 16, '001101001100': 12, '100111000100': 13, '011111000001': 54, '011001011100': 24, '100000100100': 13, '010101110100': 20, '001011011100': 12, '001011110000': 12, '001101001000': 15, '001100110100': 14, '010111101000': 209, '100101100100': 15, '010000010001': 108, '101000110100': 16, '001110100000': 271, '010000100000': 10, '100100000000': 13, '100000101100': 328, '011100000100': 1023, '111011001100': 972, '010101011000': 960, '110110101000': 958, '010101010000': 995, '100101101100': 391, '101010110000': 979, '000100110100': 1024, '001011101001': 769, '100001001100': 1013, '010110001100': 1030, '001101100001': 110, '110011011000': 1013, '111011011100': 999, '011000110000': 999, '001101011101': 107, '000000111000': 1001, '010011000100': 980, '110101110000': 1020, '011000010000': 969, '011111110100': 972, '110100010000': 993, '000110010100': 966, '010001000000': 987, '100111010001': 1058, '100001100100': 966, '001100101101': 39, '100000101001': 970, '010000001100': 988, '111010111100': 1030, '001101011100': 877, '010100111100': 1031, '000001110000': 994, '010001011100': 1001, '100101110000': 865, '000101110000': 1003, '100000100101': 988, '100010000001': 20, '010100100100': 1006, '001111011100': 1034, '110011110100': 983, '100001000100': 1037, '001001101000': 1014, '011111011000': 988, '101100111100': 946, '000010100100': 977, '100001010000': 1009, '000100001000': 1015, '011001010000': 974, '111000110000': 995, '011111001000': 1031, '100111001000': 17, '000100111000': 978, '101001011000': 975, '010111001000': 979, '010000011101': 913, '100111101000': 936, '110101111100': 1047, '100100010100': 947, '100000111000': 986, '111000100000': 980, '101000000000': 975, '001111000001': 939, '111011011000': 1010, '110000000100': 1025, '011111100100': 1074, '010101100000': 997, '101010010000': 736, '011110001000': 1029, '001100111001': 988, '100000011100': 791, '001110111100': 492, '110000001000': 986, '000110010000': 972, '100010110100': 970, '010110111100': 1037, '110110011100': 1014, '010111100000': 929, '101110111100': 1002, '010011101100': 997, '010010001100': 650, '101001101000': 950, '100101010000': 919, '001101101000': 973, '101000011000': 950, '101001100000': 957, '001001111000': 532, '011111011100': 986, '011000010100': 1056, '110100001000': 997, '101000111100': 76, '110100010100': 1005, '110111110100': 993, '011000011000': 993, '111111101100': 951, '111000111000': 1000, '011111001100': 1012, '111100100000': 1039, '110001110100': 1011, '100000110000': 1027, '001101110000': 993, '110001011100': 1027, '101101011100': 1020, '101001000000': 650, '010011100100': 997, '011101110000': 1025, '110110011000': 1008, '111010111000': 958, '001101000101': 970, '111100011000': 1002, '110001010100': 975, '000110101100': 1006, '111011001000': 986, '001100101100': 958, '111100011100': 1050, '100110000000': 974, '010000111100': 1019, '110100000000': 1018, '010101010100': 1009, '100001111100': 1056, '000110000000': 953, '001010110100': 951, '101000110001': 985, '000000101100': 932, '101110101000': 1014, '101000110000': 7, '000001111100': 996, '110010110100': 991, '010101111000': 923, '001001000000': 1047, '100101100001': 1058, '100000001000': 972, '001111101000': 1011, '001110101001': 987, '100110101000': 967, '001101010001': 1005, '110011001100': 961, '100011010000': 967, '011010011000': 958, '110111101100': 971, '010101001100': 1022, '100000000000': 992, '001100100100': 1050, '001001001000': 977, '010110000100': 1022, '011101111000': 1056, '000110001000': 1016, '101101001000': 1003, '010010010100': 906, '101010011000': 13, '010111000000': 942, '011011001001': 37, '001000100100': 990, '100010001001': 796, '000001100000': 1010, '001011111000': 408, '001011010101': 995, '011010101100': 949, '000110000100': 997, '111011111100': 1021, '010011011000': 1025, '111011101000': 974, '101101010100': 1001, '000101000000': 1001, '010110101000': 992, '010011100000': 959, '001100101000': 1015, '111010010000': 972, '000100001100': 1035, '001111000101': 899, '011111000100': 1005, '100011101000': 949, '000010000000': 1034, '011110111000': 16, '011010000100': 1006, '111101010100': 1074, '100011111001': 1020, '011100111000': 978, '001110001100': 980, '100001110000': 1011, '100110011100': 1013, '011111100000': 975, '010010010101': 121, '101101111000': 1034, '101110000000': 1007, '100111100100': 1023, '101001010000': 1009, '101000010100': 1024, '001001110000': 790, '111010000100': 966, '001010000001': 413, '110101101000': 1052, '001111111000': 975, '101000111101': 942, '001000101000': 981, '100100110100': 967, '001000011100': 928, '011001100001': 986, '111000011100': 947, '010000000000': 984, '011101100100': 994, '100101010001': 5, '100101000000': 997, '101010001000': 1000, '110000011000': 980, '000011101000': 1040, '000011110100': 1003, '000101100100': 1026, '100011100000': 948, '110010001100': 976, '000111101000': 1004, '001101111100': 973, '000100010100': 1024, '111100111000': 1008, '100110110100': 993, '110010010000': 999, '001100011100': 1001, '111011100000': 1001, '011010100000': 958, '101010010100': 14, '110010011100': 973, '111000101100': 939, '100001000000': 1027, '101001001000': 1042, '110001100100': 995, '000000000000': 980, '111010100000': 989, '000001001100': 1025, '101001111100': 1018, '010110011100': 992, '110001001000': 1017, '101100111000': 985, '001011111001': 638, '000100011000': 1048, '110001000100': 1004, '000111111000': 1004, '101110010100': 928, '000111011100': 1005, '011001011001': 902, '001110111101': 527, '111100010100': 983, '010010001000': 1000, '111110010000': 1007, '010001010000': 944, '110101010100': 986, '110001010000': 1055, '101110011100': 972, '011110100100': 1000, '000010101100': 989, '100100000001': 981, '001011110001': 970, '110111111000': 969, '010111110100': 968, '111011010100': 1003, '010000101100': 985, '100110100000': 995, '100110110000': 968, '010010110000': 1040, '110101010000': 995, '010011001100': 1047, '000011011000': 991, '001010010100': 961, '100101101001': 954, '001001110100': 727, '110010101000': 1026, '111110001000': 1044, '001000111100': 1007, '000010001000': 1007, '001001010100': 990, '011001111000': 1011, '001111010100': 1002, '001011001000': 848, '111000011000': 984, '100000011001': 31, '111111110000': 925, '110001110000': 1063, '101010001100': 1012, '100000010100': 989, '101011110000': 997, '110110001000': 979, '100100111100': 1026, '011011010000': 14, '100101001100': 1030, '001011010100': 15, '001011110101': 904, '000101010000': 974, '010101100100': 1010, '011000011100': 1005, '110101011100': 1029, '110100110100': 1035, '101111111000': 996, '100100101100': 1001, '100110111101': 394, '100001100000': 1055, '110101110100': 1032, '011100011000': 998, '000011001100': 1016, '101011101000': 979, '101100000000': 999, '100011010100': 1040, '010101111100': 953, '110000000000': 989, '110100101000': 971, '111010101100': 986, '011000100000': 999, '100110010100': 973, '001101110100': 1001, '011001100100': 843, '010001110000': 1016, '010101101000': 975, '100101111100': 981, '010000011001': 191, '111001111000': 989, '101110011000': 941, '010100011000': 999, '010101110000': 434, '000010001100': 998, '110101111000': 991, '011110000000': 1020, '100011001100': 1024, '010010111100': 943, '001010100100': 975, '100111010101': 571, '100010011101': 519, '010100000001': 1018, '001110100100': 12, '100110111100': 526, '010110001000': 1033, '001000100000': 1001, '011010001000': 996, '100111111100': 1050, '101101101100': 992, '001110011000': 1044, '111010000000': 1002, '010000110100': 619, '011000001000': 987, '010100110100': 994, '000110100100': 1036, '101100000100': 1010, '111000101000': 926, '100100001001': 107, '001010110000': 966, '010011111101': 303, '011100111100': 1002, '100001011100': 1014, '011110111101': 955, '000011010000': 1017, '011111101100': 1016, '010010101000': 1011, '000011011100': 1037, '001001111101': 10, '011110010100': 1003, '000011111100': 985, '111110000000': 1006, '100001110100': 953, '011101000101': 949, '010101011100': 1070, '101100011000': 1037, '100101110001': 93, '001010101100': 996, '100010010000': 17, '110010111000': 995, '110101100100': 1030, '101010011101': 898, '111101100000': 949, '001101011000': 874, '111010011100': 967, '011011001000': 1028, '010100010100': 991, '101000011100': 1022, '010110110000': 1026, '101111000000': 1002, '110001100000': 973, '100010111100': 1023, '011011100100': 1014, '010100101000': 941, '100000111100': 974, '000001101100': 1049, '010111100101': 932, '100100010000': 1030, '111110110100': 1005, '101101011000': 1014, '000111111100': 977, '001101101100': 1038, '010000100100': 324, '111101010000': 962, '111001110000': 957, '100001111000': 1023, '101001110000': 1015, '101010101000': 688, '001111011000': 1026, '101001000100': 1042, '111101000000': 955, '001000001100': 999, '111000001100': 970, '110100000100': 1008, '011001110100': 1015, '100011111100': 11, '001110101101': 914, '011011011100': 978, '000110100000': 970, '101100100000': 994, '010000010100': 624, '001100001100': 976, '111110011100': 1010, '111001111100': 1025, '111111000000': 1028, '101000001100': 1033, '000000011000': 1037, '110111011000': 981, '101011011000': 988, '110110010100': 1034, '000101101000': 955, '101001000101': 2, '101101110100': 1038, '011001001000': 974, '001001110001': 269, '110010001000': 980, '100111011100': 946, '010111111000': 937, '010110100100': 1006, '101101010000': 1003, '010111011000': 971, '000001010000': 1028, '011011010101': 964, '000101000100': 1000, '011001010101': 108, '101001001100': 974, '001100100000': 964, '000101100000': 1061, '001100110000': 116, '010010111000': 968, '001010011000': 999, '010110110100': 1021, '101011010000': 1000, '011001011101': 1008, '000001111000': 1004, '111101001000': 943, '111001101100': 979, '100011011100': 1009, '001100010100': 1003, '111110111100': 1015, '000110011100': 1011, '110101000000': 995, '100111011000': 892, '110110000100': 995, '000001001000': 1067, '000010011000': 1046, '111001011100': 995, '011001000000': 1038, '000100101000': 1030, '110101011000': 1038, '001101100101': 46, '101111111100': 990, '100011011000': 1036, '111100101100': 1041, '111001011000': 1004, '111001001100': 1022, '100111000101': 991, '000100101100': 1021, '110011010100': 1020, '101010111100': 972, '100100100100': 1004, '010110010100': 1013, '101011000100': 999, '111110100000': 999, '001111000000': 60, '001101000001': 993, '100011110101': 931, '010010100100': 964, '001000001000': 955, '000011100100': 1001, '110011101000': 1040, '011001111100': 980, '010111101100': 577, '101000010000': 942, '011000000100': 972, '101010111000': 1007, '110000010100': 995, '000001011100': 988, '001001101100': 1031, '100100110000': 1014, '100111011001': 97, '001101101001': 19, '101110110000': 1020, '111101101000': 1044, '010100001000': 1010, '101111110100': 1048, '110110001100': 995, '110011010000': 1039, '111001010000': 1053, '101100110100': 994, '011100110100': 1026, '100111001001': 986, '010100000101': 561, '110111010100': 977, '001110110001': 1001, '100010101000': 1102, '011000000000': 1015, '011101101000': 972, '010100010000': 1009, '001110010100': 1018, '010111000100': 1013, '010000001000': 1032, '000011101100': 1029, '001011011101': 1000, '010111110000': 858, '001001000100': 1039, '111111100000': 1030, '100111011101': 1, '001100010000': 992, '111110100100': 1055, '101000111001': 969, '110111010000': 1014, '000101111000': 1016, '011001101001': 7, '001101010000': 17, '001101011001': 130, '011100101000': 1034, '001100011000': 1076, '100101010100': 971, '111110010100': 993, '010100110000': 976, '111100001000': 1018, '011000100100': 1045, '011110111100': 65, '001110100001': 756, '001000110100': 997, '000011110000': 1025, '001011011001': 989, '011101000000': 893, '101000101001': 791, '011101101100': 987, '010100111000': 977, '100111100000': 1039, '000010100000': 1001, '000110101000': 995, '001001111100': 1020, '001011010000': 535, '111101111000': 1061, '011100100100': 1021, '110110000000': 1026, '101100001100': 1113, '110110100000': 984, '110011100000': 1009, '101101101000': 1050, '101110000100': 1002, '011001101100': 1065, '101010110100': 1017, '000001011000': 996, '011110110000': 981, '011100010100': 988, '000000111100': 989, '101111001100': 1037, '110010000000': 1038, '010110100000': 1045, '010101110001': 541, '001011100001': 965, '010001000100': 988, '001101100100': 944, '010010011000': 1014, '010111110001': 165, '001010011100': 1019, '111010010100': 1012, '011101011000': 985, '111100001100': 1004, '011010100100': 1010, '000000010100': 1000, '011111010100': 997, '001000111000': 999, '001101010101': 955, '001000101100': 992, '101011011100': 1006, '100000011000': 979, '000100110000': 1022, '101010000100': 954, '111010110100': 1012, '010100000100': 425, '100111111000': 984, '101000000100': 1025, '001011111101': 86, '111111111000': 1036, '100010001000': 200, '010111001100': 1006, '111101110000': 997, '000011111000': 931, '110111111100': 951, '110100100000': 1042, '111000001000': 976, '100011110000': 258, '111011000000': 998, '100111101100': 1052, '011100110000': 945, '111001000000': 971, '010000100001': 962, '011010110000': 970, '110111001000': 1001, '010111111100': 1034, '110111001100': 1015, '000111100100': 968, '000100000100': 958, '000010111000': 968, '101001110100': 992, '010110101100': 993, '000010110000': 1036, '101100101000': 956, '110110110000': 1023, '100101010101': 60, '010001001100': 977, '110000001100': 1004, '111100111100': 978, '110010111100': 1028, '101111010000': 1007, '010100011100': 968, '100010000101': 339, '111010001000': 1013, '011001110000': 1064, '111101000100': 975, '001011001101': 380, '011101001101': 538, '111111001100': 1027, '100100100000': 1028, '001101001101': 975, '101011001100': 1014, '101000101000': 222, '110110110100': 1012, '101110110100': 1000, '001011011000': 21, '010000010000': 916, '000011000000': 1000, '011111111000': 1075, '000000101000': 1034, '111111010000': 971, '100110101100': 995, '111010101000': 1077, '101011101100': 981, '110011111000': 1011, '011100001100': 1003, '111010110000': 946, '111110101000': 989, '111101111100': 982, '101001010100': 974, '100010111000': 969, '100110000100': 1007, '100100011000': 979, '010000101000': 1052, '100110001000': 1022, '101010011001': 946, '000011100000': 1006, '111100000000': 1034, '001011000000': 947, '011010111100': 1022, '110100111100': 962, '000110111100': 1015, '100100011100': 1045, '010000111000': 951, '110010011000': 993, '100111000000': 251, '011010001100': 971, '010011011100': 1007, '101011001000': 998, '111001100100': 1005, '010010000100': 1026, '100011001000': 995, '000010010000': 961, '111111110100': 988, '001111101100': 992, '101011111100': 1026, '001010000000': 564, '000111000100': 1040, '110001011000': 997, '100011000100': 1004, '111100101000': 1003, '011001100101': 222, '000100000000': 982, '000010000100': 977, '110000011100': 1019, '001110111001': 602, '101111101100': 973, '011101100000': 1015, '001001001100': 976, '111111010100': 1017, '001011101101': 518, '010010000000': 955, '001110001000': 1036, '000100010000': 999, '001111010000': 927, '011011101000': 990, '100001001000': 953, '001011100000': 16, '010111011100': 1040, '110101001100': 1058, '000001000000': 992, '011011011001': 366, '100101011101': 948, '101110101100': 1016, '111100110000': 950, '111101011000': 946, '010000011000': 786, '000101101100': 1031, '101111110000': 1050, '010101110101': 1017, '000000100000': 1007, '011011100000': 1055, '010111101001': 779, '100000010000': 1011, '011010110100': 969, '100010110000': 1025, '001111001100': 995, '001100000000': 998, '111000111100': 934, '011110110100': 40, '011001010100': 869, '100001101100': 991, '101001101100': 982, '110011101100': 1037, '111011110000': 988, '110111100100': 982, '100011111101': 1017, '010011110100': 1031, '111000000100': 976, '100100101000': 1017, '011010000000': 1005, '110000111100': 978, '101111000100': 958, '100010010101': 939, '111011010000': 968, '110011000100': 1037, '101111100000': 1025, '001000010100': 1059, '110001101000': 1006, '101101000100': 998, '101101100100': 1016, '011101111100': 1031, '100101001000': 1049, '011010010100': 1051, '001001100100': 991, '000101110100': 993, '100010100100': 954, '001111110100': 995, '110010010100': 1003, '100100000101': 633, '000001100100': 975, '110110101100': 953, '010000110101': 321, '011110110101': 948, '101110111000': 961, '010101001000': 1009, '110100100100': 953, '100001011000': 1010, '001110110101': 1007, '010000110000': 954, '100100111000': 1060, '110100111000': 975, '101010010101': 1003, '101011100000': 1008, '000111000000': 992, '011000110100': 1038, '001101100000': 864, '010101000100': 1013, '101100101100': 1008, '110000100000': 960, '011100000000': 1023, '010001010100': 979, '110010000100': 1006, '001110011100': 921, '001010001100': 711, '111100100100': 959, '011100101100': 1003, '011011110000': 986, '010011101000': 944, '010001111000': 1020, '000100011100': 983, '111001101000': 1028, '011101001100': 456, '011110011100': 979, '001100111101': 1002, '111001110100': 993, '001110000000': 1026, '001111100000': 1044, '101100110000': 1015, '011101011100': 1011, '110000100100': 980, '111000110100': 985, '111110001100': 1019, '100111010100': 447, '100001101000': 1004, '110000010000': 1018, '010011001000': 975, '111111000100': 962, '110101001000': 960, '100010000000': 934, '000000110000': 1041, '111010100100': 944, '100010000100': 626, '111000010100': 1015, '110000101100': 981, '000011000100': 993, '001010100000': 1076, '100010011100': 484, '001110100101': 984, '111110111000': 1058, '000001110100': 1041, '110011011100': 998, '010111010000': 1012, '001110011101': 5, '000110110000': 1011, '010010010001': 1021, '001010111100': 979, '110101000100': 1035, '101111010100': 1057, '100101011000': 299, '010001111100': 1077, '000111101100': 962, '110111100000': 992, '011111000000': 986, '100101111000': 996, '111100010000': 982, '001011000100': 983, '101101001100': 1000, '111010001100': 1036, '111110110000': 998, '101010100100': 705, '100101100101': 968, '100110011000': 999, '001010111000': 963, '011111101000': 1022, '010110111000': 990, '100100001100': 1013, '110011110000': 1053, '010111100100': 94, '110111000100': 1073, '000000011100': 1024, '111110000100': 1003, '111011110100': 1055, '011000101000': 1025, '011101010100': 1049, '100100001000': 919, '010010101100': 1025, '111001001000': 1003, '111001000100': 1035, '001100110101': 1002, '011110101000': 1040, '110111110000': 976, '111110011000': 1050, '000010011100': 1004, '101110010000': 955, '111100110100': 977, '001111100100': 977, '001001100000': 1048, '000001010100': 1015, '011011111000': 989, '010001110100': 1016, '001010001000': 56, '001100000100': 958, '001111111100': 973, '001001101101': 7, '001100001000': 1004, '110111011100': 1013, '010100001100': 975, '011111111100': 1061, '100111000001': 736, '110001000000': 971, '010010011100': 983, '000101011100': 1028, '110100011100': 997, '010110000000': 988, '001110111000': 417, '111111011000': 1045, '110010110000': 1012, '111001100000': 1000, '110001111100': 987, '010100100000': 965, '100000100001': 501, '110000111000': 987, '101010101001': 250, '011011000100': 985, '000101010100': 1021, '101100010000': 990, '101000111000': 19, '011110011000': 1053, '110001101100': 1010, '000101011000': 962, '110100001100': 1012, '011110001100': 1020, '001011101100': 557, '110010101100': 937, '010011010100': 1027, '000100100000': 1020, '101101110000': 1007, '100101011001': 704, '010111010100': 963, '000000001000': 996, '101010000000': 1024, '111011000100': 990, '111011101100': 961, '001100110001': 863, '001101001001': 946, '110100101100': 970, '101101111100': 986, '100010011001': 990, '100011100100': 995, '011100010000': 955, '001010010000': 1041, '101001100100': 1032, '011110111001': 1008, '011100100000': 1016, '100110111000': 1009, '111111111100': 968, '011000111100': 970, '010000000100': 984, '001000000000': 980, '101100011100': 1009, '110101100000': 1003, '001001011100': 1031, '110100110000': 1024, '011011001100': 459, '010111101101': 398, '111111101000': 1000, '100100000100': 373, '010000100101': 649, '010001011000': 1071, '101010100101': 280, '111111011100': 968, '111011100100': 1031, '101110100100': 1033, '001000110000': 988, '010001001000': 999, '110000101000': 1021, '000110111000': 1003, '100010010100': 10, '001001101001': 9, '110000110000': 1021, '100101110100': 1025, '111000100100': 993, '011101110100': 1024, '000000100100': 964, '111010011000': 1002, '000101001000': 972, '101111001000': 958, '101100001000': 968, '110011111100': 1021, '110111101000': 994, '000100111100': 1029, '011101000100': 28, '101010100001': 689, '100010010001': 962, '001001010000': 1003, '001011000101': 15, '101110001000': 997, '011111110000': 1020, '001101000100': 12, '111011111000': 1024, '011011000000': 1072, '111101001100': 957, '100000000100': 1036, '101010010001': 288, '100111010000': 18, '110011001000': 1012, '000011001000': 987, '001011100101': 958, '110011100100': 944, '111100000100': 984, '011011111100': 1015, '111000010000': 990, '100000110100': 1018, '111001010100': 1016, '100111110100': 1001, '011101010000': 1021, '010010110100': 1053, '101001011100': 1040, '110101101100': 951, '010101101100': 1000, '000110001100': 1003, '000110110100': 1060, '011101001001': 1023, '101010101100': 948, '000111100000': 1026, '001011010001': 419, '001010001001': 919, '101111011100': 971, '000111010000': 1000, '110110100100': 1002, '100000100000': 458, '100010001100': 27, '001011001100': 609, '110000110100': 981, '111111001000': 1012, '101000100101': 463, '011110100000': 1001, '100000011101': 250, '100011101100': 789, '110010100100': 932, '101011010100': 970, '000010110100': 1016, '000000010000': 958, '101000100000': 906, '011001001100': 953, '011010011100': 1010, '000111010100': 962, '110001001100': 1031, '000101111100': 998, '010001100100': 959, '011001101000': 991, '010011111000': 1007, '110011000000': 995, '111101100100': 985, '111111100100': 1002, '101011100100': 1000, '111101011100': 1001, '101111100100': 1009, '100000101101': 690, '001000011000': 992, '010011010000': 1001, '000010101000': 959, '010011110000': 1012, '110100011000': 984, '001011111100': 980, '111101101100': 994, '100110001100': 965, '001000000100': 1009, '011011101100': 997, '100011110100': 16, '011000001100': 993, '010001101100': 1021, '010100101100': 971, '100011000000': 990, '101010100000': 311, '001101111000': 1065, '100110100100': 969, '010101000000': 983, '010001100000': 987, '110110010000': 995, '011100001000': 1012, '110111000000': 1036, '011101000001': 145, '101011000000': 984, '010110011000': 1061, '011010111000': 1042, '100111001101': 967, '101101100000': 962, '000000110100': 1000, '011110010000': 1020, '101100010100': 917, '001011101000': 218, '110001111000': 1029, '000111110000': 1033, '100110010000': 985, '011001011000': 111, '001010101000': 941, '011110101100': 965, '100111110000': 980, '100010001101': 991, '011011011000': 644, '001101000000': 28, '011111010000': 986, '101111011000': 1006, '000010010100': 998, '001010000101': 954, '100001010100': 965, '011110000100': 994, '110010100000': 977, '101011111000': 984, '010011000000': 937, '000110011000': 1018, '011100011100': 1010, '010101111001': 87, '111101110100': 969, '101101000000': 958, '101110001100': 959, '001110000100': 965, '011000111000': 1017, '101000110101': 1006, '101110100000': 1012, '011001000100': 978, '101011110100': 934, '001001110101': 288, '101111101000': 1012, '000000001100': 918, '000111001000': 950, '000001000100': 963, '100010100000': 961, '000001101000': 1032, '101000100100': 563, '111000000000': 1000, '110110111100': 988, '001000010000': 1020, '011011010100': 12, '010000010101': 394, '100011101101': 230, '000111001100': 1079, '011011110100': 990, '001111000100': 105, '010110010000': 994, '001111110000': 1034, '010010100000': 1041, '001001011000': 1016, '111110101100': 1045, '001001111001': 422, '010010001101': 364, '101100100100': 974, '001110110100': 18, '010011111100': 671, '101000101101': 986, '101000001000': 960, '011011001101': 473, '001110010000': 991, '000010111100': 982, '011010010000': 1022, '000011010100': 1005, '100101101101': 579, '000111011000': 1042, '100011110001': 782, '011011010001': 1032, '100101000100': 988, '011011011101': 13, '001111001000': 970, '011000101100': 987, '000000000100': 947, '000111110100': 1037, '100011111000': 15, '100000001100': 1006, '001100111100': 12, '001010001101': 259, '100010101100': 996, '011010101000': 904, '101001111000': 1017, '000100100100': 1001, '100101100000': 18, '110110111000': 1001, '010001101000': 979, '001011001001': 152, '001011100100': 20, '101000100001': 37, '101001000001': 250, '001011110100': 102, '000101001100': 985, '100010011000': 38}\n"
          ]
        },
        {
          "output_type": "display_data",
          "data": {
            "text/plain": [
              "<Figure size 640x480 with 1 Axes>"
            ],
            "image/png": "[encoded data removed]"
          },
          "metadata": {}
        }
      ]
    },
    {
      "cell_type": "code",
      "source": [
        "pip install qiskit\n"
      ],
      "metadata": {
        "colab": {
          "base_uri": "https://localhost:8080/"
        },
        "id": "Q4j2K2wvIecX",
        "outputId": "9abebcba-d6fa-4f65-92c9-cb1706f05b73"
      },
      "execution_count": null,
      "outputs": [
        {
          "output_type": "stream",
          "name": "stdout",
          "text": [
            "Requirement already satisfied: qiskit in /usr/local/lib/python3.10/dist-packages (0.45.0)\n",
            "Requirement already satisfied: qiskit-terra==0.45.0 in /usr/local/lib/python3.10/dist-packages (from qiskit) (0.45.0)\n",
            "Requirement already satisfied: rustworkx>=0.13.0 in /usr/local/lib/python3.10/dist-packages (from qiskit-terra==0.45.0->qiskit) (0.13.2)\n",
            "Requirement already satisfied: numpy<2,>=1.17 in /usr/local/lib/python3.10/dist-packages (from qiskit-terra==0.45.0->qiskit) (1.23.5)\n",
            "Requirement already satisfied: ply>=3.10 in /usr/local/lib/python3.10/dist-packages (from qiskit-terra==0.45.0->qiskit) (3.11)\n",
            "Requirement already satisfied: psutil>=5 in /usr/local/lib/python3.10/dist-packages (from qiskit-terra==0.45.0->qiskit) (5.9.5)\n",
            "Requirement already satisfied: scipy>=1.5 in /usr/local/lib/python3.10/dist-packages (from qiskit-terra==0.45.0->qiskit) (1.11.3)\n",
            "Requirement already satisfied: sympy>=1.3 in /usr/local/lib/python3.10/dist-packages (from qiskit-terra==0.45.0->qiskit) (1.12)\n",
            "Requirement already satisfied: dill>=0.3 in /usr/local/lib/python3.10/dist-packages (from qiskit-terra==0.45.0->qiskit) (0.3.7)\n",
            "Requirement already satisfied: python-dateutil>=2.8.0 in /usr/local/lib/python3.10/dist-packages (from qiskit-terra==0.45.0->qiskit) (2.8.2)\n",
            "Requirement already satisfied: stevedore>=3.0.0 in /usr/local/lib/python3.10/dist-packages (from qiskit-terra==0.45.0->qiskit) (5.1.0)\n",
            "Requirement already satisfied: symengine<0.10,>=0.9 in /usr/local/lib/python3.10/dist-packages (from qiskit-terra==0.45.0->qiskit) (0.9.2)\n",
            "Requirement already satisfied: typing-extensions in /usr/local/lib/python3.10/dist-packages (from qiskit-terra==0.45.0->qiskit) (4.5.0)\n",
            "Requirement already satisfied: six>=1.5 in /usr/local/lib/python3.10/dist-packages (from python-dateutil>=2.8.0->qiskit-terra==0.45.0->qiskit) (1.16.0)\n",
            "Requirement already satisfied: pbr!=2.1.0,>=2.0.0 in /usr/local/lib/python3.10/dist-packages (from stevedore>=3.0.0->qiskit-terra==0.45.0->qiskit) (6.0.0)\n",
            "Requirement already satisfied: mpmath>=0.19 in /usr/local/lib/python3.10/dist-packages (from sympy>=1.3->qiskit-terra==0.45.0->qiskit) (1.3.0)\n"
          ]
        }
      ]
    },
    {
      "cell_type": "code",
      "source": [
        "pip install --upgrade qiskit\n"
      ],
      "metadata": {
        "colab": {
          "base_uri": "https://localhost:8080/"
        },
        "id": "a3OwT8KoImWP",
        "outputId": "1f0eddae-f276-4c3b-98d9-2af6df84032f"
      },
      "execution_count": null,
      "outputs": [
        {
          "output_type": "stream",
          "name": "stdout",
          "text": [
            "Requirement already satisfied: qiskit in /usr/local/lib/python3.10/dist-packages (0.45.0)\n",
            "Requirement already satisfied: qiskit-terra==0.45.0 in /usr/local/lib/python3.10/dist-packages (from qiskit) (0.45.0)\n",
            "Requirement already satisfied: rustworkx>=0.13.0 in /usr/local/lib/python3.10/dist-packages (from qiskit-terra==0.45.0->qiskit) (0.13.2)\n",
            "Requirement already satisfied: numpy<2,>=1.17 in /usr/local/lib/python3.10/dist-packages (from qiskit-terra==0.45.0->qiskit) (1.23.5)\n",
            "Requirement already satisfied: ply>=3.10 in /usr/local/lib/python3.10/dist-packages (from qiskit-terra==0.45.0->qiskit) (3.11)\n",
            "Requirement already satisfied: psutil>=5 in /usr/local/lib/python3.10/dist-packages (from qiskit-terra==0.45.0->qiskit) (5.9.5)\n",
            "Requirement already satisfied: scipy>=1.5 in /usr/local/lib/python3.10/dist-packages (from qiskit-terra==0.45.0->qiskit) (1.11.3)\n",
            "Requirement already satisfied: sympy>=1.3 in /usr/local/lib/python3.10/dist-packages (from qiskit-terra==0.45.0->qiskit) (1.12)\n",
            "Requirement already satisfied: dill>=0.3 in /usr/local/lib/python3.10/dist-packages (from qiskit-terra==0.45.0->qiskit) (0.3.7)\n",
            "Requirement already satisfied: python-dateutil>=2.8.0 in /usr/local/lib/python3.10/dist-packages (from qiskit-terra==0.45.0->qiskit) (2.8.2)\n",
            "Requirement already satisfied: stevedore>=3.0.0 in /usr/local/lib/python3.10/dist-packages (from qiskit-terra==0.45.0->qiskit) (5.1.0)\n",
            "Requirement already satisfied: symengine<0.10,>=0.9 in /usr/local/lib/python3.10/dist-packages (from qiskit-terra==0.45.0->qiskit) (0.9.2)\n",
            "Requirement already satisfied: typing-extensions in /usr/local/lib/python3.10/dist-packages (from qiskit-terra==0.45.0->qiskit) (4.5.0)\n",
            "Requirement already satisfied: six>=1.5 in /usr/local/lib/python3.10/dist-packages (from python-dateutil>=2.8.0->qiskit-terra==0.45.0->qiskit) (1.16.0)\n",
            "Requirement already satisfied: pbr!=2.1.0,>=2.0.0 in /usr/local/lib/python3.10/dist-packages (from stevedore>=3.0.0->qiskit-terra==0.45.0->qiskit) (6.0.0)\n",
            "Requirement already satisfied: mpmath>=0.19 in /usr/local/lib/python3.10/dist-packages (from sympy>=1.3->qiskit-terra==0.45.0->qiskit) (1.3.0)\n"
          ]
        }
      ]
    },
    {
      "cell_type": "markdown",
      "source": [
        "#Quantun Edge Detection"
      ],
      "metadata": {
        "id": "zecxsb91JeYm"
      }
    },
    {
      "cell_type": "code",
      "source": [
        "from qiskit import ClassicalRegister, QuantumRegister, QuantumCircuit, execute\n",
        "#from qiskit.aqua.circuits.fourier_transform_circuits import FourierTransformCircuits\n",
        "from math import pi\n",
        "from qiskit import Aer\n",
        "\n",
        "def quantum_adder(circuit, epsilon):\n",
        "    qubits = circuit.qubits\n",
        "    n_qubits = circuit.n_qubits\n",
        "    FourierTransformCircuits.construct_circuit(circuit, qubits)\n",
        "    for i in range(n_qubits):\n",
        "        circuit.u1(float(2 * pi * epsilon)/2**(i + 1), qubits[n_qubits - i - 1])\n",
        "    FourierTransformCircuits.construct_circuit(circuit, qubits, inverse=True)\n",
        "\n",
        "def quantum_rotate_image(circuit):        #gives you the quantum state where you have to measure the ancilla and obtain 0\n",
        "    for i in circuit.qubits:\n",
        "        circuit.x(i)\n",
        "\n",
        "def quantum_edge_detection(circuit):        #gives you the quantum state where you have to measure the ancilla and obtain 0\n",
        "    qubits = circuit.qubits\n",
        "    ancilla = qubits[0]\n",
        "    circuit.h(ancilla)\n",
        "    quantum_adder(circuit, -1)\n",
        "    circuit.h(ancilla)\n",
        "    circuit.x(ancilla)\n",
        "\n",
        "\n",
        "# circuit.measure(ancilla, clbit)\n",
        "\n",
        "# backend = Aer.get_backend('qasm_simulator')\n",
        "# job_sim = execute(circuit, backend)\n",
        "# sim_result = job_sim.result()\n",
        "\n",
        "# print(sim_result.get_counts(circuit))"
      ],
      "metadata": {
        "id": "woawcx_5IPlw"
      },
      "execution_count": null,
      "outputs": []
    },
    {
      "cell_type": "code",
      "source": [
        "pip install qiskit-ibmq-provider\n"
      ],
      "metadata": {
        "colab": {
          "base_uri": "https://localhost:8080/"
        },
        "id": "r672-o_OJRUk",
        "outputId": "390501b7-96b5-4889-eb40-8575dbfcf950"
      },
      "execution_count": null,
      "outputs": [
        {
          "output_type": "stream",
          "name": "stdout",
          "text": [
            "Requirement already satisfied: qiskit-ibmq-provider in /usr/local/lib/python3.10/dist-packages (0.20.2)\n",
            "Requirement already satisfied: qiskit-terra>=0.18.0 in /usr/local/lib/python3.10/dist-packages (from qiskit-ibmq-provider) (0.45.0)\n",
            "Requirement already satisfied: requests>=2.19 in /usr/local/lib/python3.10/dist-packages (from qiskit-ibmq-provider) (2.31.0)\n",
            "Requirement already satisfied: requests-ntlm<=1.1.0 in /usr/local/lib/python3.10/dist-packages (from qiskit-ibmq-provider) (1.1.0)\n",
            "Requirement already satisfied: numpy<1.24 in /usr/local/lib/python3.10/dist-packages (from qiskit-ibmq-provider) (1.23.5)\n",
            "Requirement already satisfied: urllib3>=1.21.1 in /usr/local/lib/python3.10/dist-packages (from qiskit-ibmq-provider) (2.0.7)\n",
            "Requirement already satisfied: python-dateutil>=2.8.0 in /usr/local/lib/python3.10/dist-packages (from qiskit-ibmq-provider) (2.8.2)\n",
            "Requirement already satisfied: websocket-client>=1.5.1 in /usr/local/lib/python3.10/dist-packages (from qiskit-ibmq-provider) (1.6.4)\n",
            "Requirement already satisfied: websockets>=10.0 in /usr/local/lib/python3.10/dist-packages (from qiskit-ibmq-provider) (12.0)\n",
            "Requirement already satisfied: six>=1.5 in /usr/local/lib/python3.10/dist-packages (from python-dateutil>=2.8.0->qiskit-ibmq-provider) (1.16.0)\n",
            "Requirement already satisfied: rustworkx>=0.13.0 in /usr/local/lib/python3.10/dist-packages (from qiskit-terra>=0.18.0->qiskit-ibmq-provider) (0.13.2)\n",
            "Requirement already satisfied: ply>=3.10 in /usr/local/lib/python3.10/dist-packages (from qiskit-terra>=0.18.0->qiskit-ibmq-provider) (3.11)\n",
            "Requirement already satisfied: psutil>=5 in /usr/local/lib/python3.10/dist-packages (from qiskit-terra>=0.18.0->qiskit-ibmq-provider) (5.9.5)\n",
            "Requirement already satisfied: scipy>=1.5 in /usr/local/lib/python3.10/dist-packages (from qiskit-terra>=0.18.0->qiskit-ibmq-provider) (1.11.3)\n",
            "Requirement already satisfied: sympy>=1.3 in /usr/local/lib/python3.10/dist-packages (from qiskit-terra>=0.18.0->qiskit-ibmq-provider) (1.12)\n",
            "Requirement already satisfied: dill>=0.3 in /usr/local/lib/python3.10/dist-packages (from qiskit-terra>=0.18.0->qiskit-ibmq-provider) (0.3.7)\n",
            "Requirement already satisfied: stevedore>=3.0.0 in /usr/local/lib/python3.10/dist-packages (from qiskit-terra>=0.18.0->qiskit-ibmq-provider) (5.1.0)\n",
            "Requirement already satisfied: symengine<0.10,>=0.9 in /usr/local/lib/python3.10/dist-packages (from qiskit-terra>=0.18.0->qiskit-ibmq-provider) (0.9.2)\n",
            "Requirement already satisfied: typing-extensions in /usr/local/lib/python3.10/dist-packages (from qiskit-terra>=0.18.0->qiskit-ibmq-provider) (4.5.0)\n",
            "Requirement already satisfied: charset-normalizer<4,>=2 in /usr/local/lib/python3.10/dist-packages (from requests>=2.19->qiskit-ibmq-provider) (3.3.2)\n",
            "Requirement already satisfied: idna<4,>=2.5 in /usr/local/lib/python3.10/dist-packages (from requests>=2.19->qiskit-ibmq-provider) (3.4)\n",
            "Requirement already satisfied: certifi>=2017.4.17 in /usr/local/lib/python3.10/dist-packages (from requests>=2.19->qiskit-ibmq-provider) (2023.7.22)\n",
            "Requirement already satisfied: ntlm-auth>=1.0.2 in /usr/local/lib/python3.10/dist-packages (from requests-ntlm<=1.1.0->qiskit-ibmq-provider) (1.5.0)\n",
            "Requirement already satisfied: cryptography>=1.3 in /usr/local/lib/python3.10/dist-packages (from requests-ntlm<=1.1.0->qiskit-ibmq-provider) (41.0.5)\n",
            "Requirement already satisfied: cffi>=1.12 in /usr/local/lib/python3.10/dist-packages (from cryptography>=1.3->requests-ntlm<=1.1.0->qiskit-ibmq-provider) (1.16.0)\n",
            "Requirement already satisfied: pbr!=2.1.0,>=2.0.0 in /usr/local/lib/python3.10/dist-packages (from stevedore>=3.0.0->qiskit-terra>=0.18.0->qiskit-ibmq-provider) (6.0.0)\n",
            "Requirement already satisfied: mpmath>=0.19 in /usr/local/lib/python3.10/dist-packages (from sympy>=1.3->qiskit-terra>=0.18.0->qiskit-ibmq-provider) (1.3.0)\n",
            "Requirement already satisfied: pycparser in /usr/local/lib/python3.10/dist-packages (from cffi>=1.12->cryptography>=1.3->requests-ntlm<=1.1.0->qiskit-ibmq-provider) (2.21)\n"
          ]
        }
      ]
    },
    {
      "cell_type": "markdown",
      "source": [
        "#Create IBM account and copy Token , Manual is in https://docs.quantum-computing.ibm.com/start/setup-channel\n",
        "\n"
      ],
      "metadata": {
        "id": "UkqjI3w_KPcQ"
      }
    },
    {
      "cell_type": "code",
      "source": [
        "import utils\n",
        "from qiskit import IBMQ, QuantumCircuit, ClassicalRegister, QuantumRegister\n",
        "from qiskit import execute, QuantumRegister\n",
        "from qiskit.qasm import pi\n",
        "from qiskit.tools.visualization import plot_histogram, circuit_drawer\n",
        "from qiskit.visualization import plot_state_city, plot_bloch_multivector\n",
        "from qiskit.visualization import plot_state_paulivec, plot_state_hinton\n",
        "from qiskit.visualization import plot_state_qsphere\n",
        "from qiskit.visualization import plot_histogram, plot_gate_map, plot_circuit_layout\n",
        "from qiskit import execute, Aer, BasicAer\n",
        "from qiskit.providers.aer.noise import NoiseModel\n",
        "import numpy as np\n",
        "import matplotlib.pyplot as plt\n",
        "from resizeimage import resizeimage\n",
        "from PIL import Image, ImageOps\n",
        "\n",
        "# import quantum_edge_detection as qed\n",
        "\n",
        "\n",
        "\n",
        "# Insert API key generated after registring in IBM Quantum Experience\n",
        "# IBMQ.save_account('API KEY')\n",
        "\n",
        "IBMQ.load_account()\n",
        "provider = IBMQ.get_provider( group='open', project='main')\n",
        "\n",
        "\n",
        "# dimensions of the image\n",
        "size=32\n",
        "\n",
        "#target image\n",
        "image=utils.get_Cat_image()\n",
        "\n",
        "#normalized image\n",
        "normalized_image=utils.image_normalization(image,32,True)\n",
        "\n",
        "#get target image pixel values for comparison with output image\n",
        "img_arr=utils.get_image_pixel_value(image,32)\n",
        "\n",
        "\n",
        "# initialize qubits and classical registers for building the circuit\n",
        "anc = QuantumRegister(1, \"anc\")\n",
        "img = QuantumRegister(11, \"img\")\n",
        "anc2 = QuantumRegister(1, \"anc2\")\n",
        "c = ClassicalRegister(12)\n",
        "\n",
        "# create circuit\n",
        "qc = QuantumCircuit(anc, img, anc2, c)\n",
        "\n",
        "# apply hadamard gates\n",
        "for i in range(1, len(img)):\n",
        "    qc.h(img[i])\n",
        "\n",
        "# frqi circuit from https://github.com/Shedka/citiesatnight\n",
        "for i in range(len(normalized_image)):\n",
        "        if normalized_image[i] != 0:\n",
        "                frqi.c10mary(qc, 2 * normalized_image[i], format(i, '010b'), img[0], anc2[0], [img[j] for j in range(1,len(img))])\n",
        "\n",
        "#rotate the image 180 deg\n",
        "# qed.quantum_rotate_image(qc)\n",
        "\n",
        "#Edge Detection\n",
        "# qed.quantum_edge_detection()\n",
        "\n",
        "qc.measure(img, c[1:12])\n",
        "print(qc.depth())\n",
        "numOfShots = 1000000\n",
        "\n",
        "\n",
        "#To add noise on the simulation UNCOMMENT BELOW LINES\n",
        "\n",
        "# backend = provider.get_backend('ibmq_16_melbourne')\n",
        "# noise_model = NoiseModel.from_backend(backend)\n",
        "# # Get coupling map from backend\n",
        "# coupling_map = backend.configuration().coupling_map\n",
        "# # Get basis gates from noise model\n",
        "# basis_gates = noise_model.basis_gates\n",
        "\n",
        "# To run without noise UNCOMMENT BELOW LINES\n",
        "# result = execute(qc, Aer.get_backend('qasm_simulator'), shots=numOfShots,coupling_map=coupling_map,\n",
        "#                  basis_gates=basis_gates,\n",
        "#                  noise_model=noise_model).result()\n",
        "\n",
        "# To run without noise UNCOMMENT BELOW LINES\n",
        "result = execute(qc, Aer.get_backend('qasm_simulator'), shots=numOfShots).result()\n",
        "\n",
        "# Image retrieval from quantum state to pixels\n",
        "\n",
        "genimg = np.array([])\n",
        "\n",
        "#### decode\n",
        "for i in range(len(normalized_image)):\n",
        "        try:\n",
        "                genimg = np.append(genimg,[np.sqrt(result.get_counts(qc)[format(i, '010b')+'10']/numOfShots)])\n",
        "        except KeyError:\n",
        "                genimg = np.append(genimg,[0.0])\n",
        "\n",
        "\n",
        "\n",
        "# inverse nomalization\n",
        "genimg *= size * 255.0\n",
        "# genimg = np.sin(genimg)\n",
        "\n",
        "same,notSame= utils.get_count_of_pixel(img_arr,genimg)\n",
        "print(same,notSame)\n",
        "percentage= (same/1024)*100\n",
        "print (\"Total image recovered \"+ str(percentage))\n",
        "\n",
        "# convert type\n",
        "genimg = genimg.astype('int')\n",
        "genimg = genimg.reshape((size,size))\n",
        "plt.imshow(genimg, cmap='gray', vmin=0, vmax=255)\n",
        "plt.savefig('Result'+'.png')\n",
        "plt.show()"
      ],
      "metadata": {
        "colab": {
          "base_uri": "https://localhost:8080/",
          "height": 456
        },
        "id": "KgQdv00zGqkQ",
        "outputId": "9632717f-6010-4cdc-9324-0dec14138ec2"
      },
      "execution_count": null,
      "outputs": [
        {
          "output_type": "stream",
          "name": "stderr",
          "text": [
            "<ipython-input-10-6df8466b5d2c>:24: DeprecationWarning: The package qiskit.providers.ibmq is being deprecated. Please see https://ibm.biz/provider_migration_guide to get instructions on how to migrate to qiskit-ibm-provider (https://github.com/Qiskit/qiskit-ibm-provider) and qiskit-ibm-runtime (https://github.com/Qiskit/qiskit-ibm-runtime).\n",
            "  IBMQ.load_account()\n",
            "<ipython-input-10-6df8466b5d2c>:24: DeprecationWarning: The qiskit.IBMQ entrypoint and the qiskit-ibmq-provider package (accessible from 'qiskit.providers.ibmq`) are deprecated and will be removed in a future release. Instead you should use the qiskit-ibm-provider package which is accessible from 'qiskit_ibm_provider'. You can install it with 'pip install qiskit_ibm_provider'. Just replace 'qiskit.IBMQ' with 'qiskit_ibm_provider.IBMProvider'\n",
            "  IBMQ.load_account()\n"
          ]
        },
        {
          "output_type": "error",
          "ename": "IBMQAccountCredentialsNotFound",
          "evalue": "ignored",
          "traceback": [
            "\u001b[0;31m---------------------------------------------------------------------------\u001b[0m",
            "\u001b[0;31mIBMQAccountCredentialsNotFound\u001b[0m            Traceback (most recent call last)",
            "\u001b[0;32m<ipython-input-10-6df8466b5d2c>\u001b[0m in \u001b[0;36m<cell line: 24>\u001b[0;34m()\u001b[0m\n\u001b[1;32m     22\u001b[0m \u001b[0;31m# IBMQ.save_account('API KEY')\u001b[0m\u001b[0;34m\u001b[0m\u001b[0;34m\u001b[0m\u001b[0m\n\u001b[1;32m     23\u001b[0m \u001b[0;34m\u001b[0m\u001b[0m\n\u001b[0;32m---> 24\u001b[0;31m \u001b[0mIBMQ\u001b[0m\u001b[0;34m.\u001b[0m\u001b[0mload_account\u001b[0m\u001b[0;34m(\u001b[0m\u001b[0;34m)\u001b[0m\u001b[0;34m\u001b[0m\u001b[0;34m\u001b[0m\u001b[0m\n\u001b[0m\u001b[1;32m     25\u001b[0m \u001b[0mprovider\u001b[0m \u001b[0;34m=\u001b[0m \u001b[0mIBMQ\u001b[0m\u001b[0;34m.\u001b[0m\u001b[0mget_provider\u001b[0m\u001b[0;34m(\u001b[0m \u001b[0mgroup\u001b[0m\u001b[0;34m=\u001b[0m\u001b[0;34m'open'\u001b[0m\u001b[0;34m,\u001b[0m \u001b[0mproject\u001b[0m\u001b[0;34m=\u001b[0m\u001b[0;34m'main'\u001b[0m\u001b[0;34m)\u001b[0m\u001b[0;34m\u001b[0m\u001b[0;34m\u001b[0m\u001b[0m\n\u001b[1;32m     26\u001b[0m \u001b[0;34m\u001b[0m\u001b[0m\n",
            "\u001b[0;32m/usr/local/lib/python3.10/dist-packages/qiskit/providers/ibmq/ibmqfactory.py\u001b[0m in \u001b[0;36mload_account\u001b[0;34m(self)\u001b[0m\n\u001b[1;32m    165\u001b[0m \u001b[0;34m\u001b[0m\u001b[0m\n\u001b[1;32m    166\u001b[0m         \u001b[0;32mif\u001b[0m \u001b[0;32mnot\u001b[0m \u001b[0mcredentials_list\u001b[0m\u001b[0;34m:\u001b[0m\u001b[0;34m\u001b[0m\u001b[0;34m\u001b[0m\u001b[0m\n\u001b[0;32m--> 167\u001b[0;31m             raise IBMQAccountCredentialsNotFound(\n\u001b[0m\u001b[1;32m    168\u001b[0m                 'No IBM Quantum Experience credentials found.')\n\u001b[1;32m    169\u001b[0m \u001b[0;34m\u001b[0m\u001b[0m\n",
            "\u001b[0;31mIBMQAccountCredentialsNotFound\u001b[0m: 'No IBM Quantum Experience credentials found.'"
          ]
        }
      ]
    },
    {
      "cell_type": "code",
      "source": [],
      "metadata": {
        "id": "x-ej5gyVKiyi"
      },
      "execution_count": null,
      "outputs": []
    }
  ]
}